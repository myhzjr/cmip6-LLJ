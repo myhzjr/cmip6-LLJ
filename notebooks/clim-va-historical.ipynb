{
 "cells": [
  {
   "cell_type": "code",
   "execution_count": null,
   "metadata": {},
   "outputs": [],
   "source": [
    "from matplotlib import pyplot as plt\n",
    "import numpy as np\n",
    "import pandas as pd\n",
    "import xarray as xr\n",
    "import xskillscore as xs\n",
    "import xesmf as xe\n",
    "from tqdm.autonotebook import tqdm  # Fancy progress bars for our loops!\n",
    "import intake\n",
    "import util \n",
    "import cartopy\n",
    "import cartopy.crs as ccrs\n",
    "import cartopy.io.shapereader as shpreader\n",
    "\n",
    "%matplotlib inline\n",
    "plt.rcParams['figure.figsize'] = 12, 6\n",
    "%config InlineBackend.figure_format = 'retina' "
   ]
  },
  {
   "cell_type": "code",
   "execution_count": null,
   "metadata": {},
   "outputs": [],
   "source": [
    "col_dict = {}\n",
    "col = intake.open_esm_datastore(\"../catalogs/pangeo-cmip6.json\")\n",
    "\n",
    "import pprint\n",
    "uni_dict = col.unique(['source_id','experiment_id','table_id'])"
   ]
  },
  {
   "cell_type": "code",
   "execution_count": null,
   "metadata": {},
   "outputs": [],
   "source": [
    "# Choose how much to coarsen data\n",
    "coarsen_size = 2\n",
    "\n",
    "# Define the common target grid axes\n",
    "dlon, dlat = 1., 1.\n",
    "ds_out = xr.Dataset({'lat': (['lat'], np.arange(-90.+dlat/2., 90., dlat)),\n",
    "                     'lon': (['lon'], np.arange(0.+dlon/2., 360., dlon)),})\n",
    "\n",
    "# Regridding function\n",
    "def regrid_to_common(ds, ds_out):\n",
    "    \"\"\"\n",
    "    Regrid from rectilinear grid to common grid\n",
    "    \"\"\"\n",
    "    regridder = xe.Regridder(ds, ds_out, 'bilinear',periodic=True, reuse_weights=True)\n",
    "    return regridder(ds)\n",
    "\n",
    "Rearth = 6.378E6   # radius of Earth in meters\n",
    "# a DataArray that gives grid cell areas on the lat/lon grid (in units of m^2)\n",
    "area = (np.deg2rad(dlat)*Rearth) * (np.deg2rad(dlon)*Rearth*np.cos(np.deg2rad(ds_out.lat))) * xr.ones_like(ds_out.lon)\n",
    "\n",
    "# coarsen\n",
    "area = area.coarsen({'lat': coarsen_size, 'lon': coarsen_size}, boundary='exact').mean()\n",
    "\n",
    "# month lengths\n",
    "days_in_month = np.array([31 , 28.25, 31, 30, 31, 30, 31, 31, 30, 31, 30, 31])\n",
    "days_in_month = xr.DataArray(days_in_month, coords=[np.arange(1,13,1)], dims=['month'])"
   ]
  },
  {
   "cell_type": "code",
   "execution_count": null,
   "metadata": {},
   "outputs": [],
   "source": [
    "models = set(uni_dict['source_id']['values']) # all the models\n",
    "for experiment_id in ['historical', 'ssp585','ssp370']:\n",
    "    query = dict(experiment_id=experiment_id, table_id='Amon',\n",
    "                 variable_id='va', grid_label='gn')  \n",
    "    cat = col.search(**query)\n",
    "    models = models.intersection({model for model in cat.df.source_id.unique().tolist()})\n",
    "models = list(models)\n",
    "models\n",
    "cat = col.search(experiment_id=['historical'], table_id='Amon',\n",
    "                 variable_id='va', grid_label='gn', source_id=models)   \n",
    "dset_dict = cat.to_dataset_dict(zarr_kwargs={'consolidated': True, 'decode_times': False})"
   ]
  },
  {
   "cell_type": "code",
   "execution_count": null,
   "metadata": {},
   "outputs": [],
   "source": [
    "time_slice = slice('1950','2014')\n",
    "plev_inter = 85000\n",
    "region = dict(lat=slice(15,55),lon=slice(235,285))"
   ]
  },
  {
   "cell_type": "code",
   "execution_count": null,
   "metadata": {},
   "outputs": [],
   "source": [
    "ds_dict = {}\n",
    "for name, ds in tqdm(dset_dict.items()):\n",
    "    if ('latitude' in ds.dims) and ('longitude'in ds.dims):\n",
    "        ds = ds.rename({'latitude':'lat', 'longitude':'lon'}) #Some Models Labeled Differently\n",
    "    ds = ds.mean(dim='member_id')\n",
    "    ds = ds.sel(plev=plev_inter)\n",
    "    ds = xr.decode_cf(ds)\n",
    "    ds = ds.sel(time=time_slice)\n",
    "    \n",
    "    #regrid to a common grid    \n",
    "    ds_new = regrid_to_common(ds['va'],ds_out) \n",
    "    \n",
    "    # Create anomalies\n",
    "    va_clim = ds_new.groupby('time.month').mean('time')\n",
    "    va_anom = ds_new.groupby('time.month') - va_clim\n",
    "    va_anom = va_anom - va_anom.sel(time=slice('1970','2000')).mean(dim='time')\n",
    "    \n",
    "    ## Calculate regional mean meridional wind\n",
    "    va_anom_reg = va_anom.sel(**region)    \n",
    "    va_anom_reg['name'] = ds.attrs['source_id']\n",
    "            \n",
    "    # Add ensemble as a new dimension\n",
    "    #ds_Upd = va_anom_reg.expand_dims({'ensemble': np.array([va_anom_reg.attrs['name']])}, 0)\n",
    "    \n",
    "    # Add anomalous meridional wind to dictionary\n",
    "    ds_dict[name] = va_anom_reg"
   ]
  },
  {
   "cell_type": "code",
   "execution_count": null,
   "metadata": {},
   "outputs": [],
   "source": [
    "seasVa = {}\n",
    "for va, ds in tqdm(ds_dict.items()):\n",
    "    ds = ds.groupby('time.month').mean()\n",
    "    ds = ds.sel(month=[4,5,6]).mean(dim='month').squeeze()\n",
    "    \n",
    "    seasVa[va] = ds"
   ]
  },
  {
   "cell_type": "code",
   "execution_count": null,
   "metadata": {},
   "outputs": [],
   "source": [
    "big_plots = True\n",
    "if big_plots:\n",
    "    for name, ds in tqdm(seasVa.items()):\n",
    "        fig = plt.figure(figsize=(9,7))\n",
    "        ax = fig.add_subplot(1, 1, 1, projection=ccrs.PlateCarree())\n",
    "        ax.add_feature(cartopy.feature.COASTLINE)\n",
    "        ax.add_feature(cartopy.feature.BORDERS, linestyle='-')\n",
    "        ax.add_feature(cartopy.feature.STATES, edgecolor = 'black')\n",
    "        q = (ds['va']).plot(x='lon',y='lat')\n",
    "        plt.title(name+\".va.850 \", y = 1.025)\n",
    "        plt.savefig('../figures/va_'+name+'-850.png',dpi=100,bbox_inches='tight')"
   ]
  }
 ],
 "metadata": {
  "kernelspec": {
   "display_name": "Python 3",
   "language": "python",
   "name": "python3"
  },
  "language_info": {
   "codemirror_mode": {
    "name": "ipython",
    "version": 3
   },
   "file_extension": ".py",
   "mimetype": "text/x-python",
   "name": "python",
   "nbconvert_exporter": "python",
   "pygments_lexer": "ipython3",
   "version": "3.7.4"
  }
 },
 "nbformat": 4,
 "nbformat_minor": 2
}
